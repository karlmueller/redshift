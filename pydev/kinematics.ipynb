{
 "cells": [
  {
   "attachments": {},
   "cell_type": "markdown",
   "metadata": {},
   "source": [
    "## Kinematics for violetshift\n",
    "\n",
    "\n",
    "#### Kinematically Erratic Idiot That's Hilarious\n"
   ]
  },
  {
   "attachments": {},
   "cell_type": "markdown",
   "metadata": {},
   "source": [
    "| i | d | a |alpha | theta       |   \n",
    "|---|---|---|------|-------------|\n",
    "|0  | - | 0 |  0   |   -         |\n",
    "|1  | d1| 0 | pi/2 |  theta_var  |  \n",
    "|2  | 0 | a2|   0  |  theta_var  |\n",
    "|3  | 0 | a3|   0  |  theta_var  |\n",
    "|4  | d4| 0 | pi/2 |  theta_var  |\n",
    "|5  | a5| 0 |-pi/2 |  theta_var  |\n",
    "|6  | a6| - |   -  |  theta_var  |\n"
   ]
  },
  {
   "cell_type": "code",
   "execution_count": 12,
   "metadata": {},
   "outputs": [],
   "source": [
    "import numpy as np\n",
    "import sympy as sp\n",
    "\n",
    "from sympy.interactive.printing import init_printing\n",
    "init_printing(use_unicode=False, wrap_line=False)\n",
    "\n",
    "from sympy.matrices import Matrix, eye, zeros, ones, diag, GramSchmidt\n",
    "from sympy import symbols\n",
    "from sympy.solvers import solve"
   ]
  },
  {
   "cell_type": "code",
   "execution_count": 3,
   "metadata": {},
   "outputs": [],
   "source": [
    "# Measurements are in mm or rad, as appropriate\n",
    "d1 = 164\n",
    "d2 = 0\n",
    "d3 = 0\n",
    "d4 = 0\n",
    "d5 = 0\n",
    "d6 = 0\n",
    "\n",
    "sd1, sd2, sd3, sd4, sd5, sd6 = symbols('sd1 sd2 sd3 sd4 sd5 sd6')\n",
    "\n",
    "a1 = 0\n",
    "a2 = 184\n",
    "a3 = 150\n",
    "a4 = 0\n",
    "a5 = 0\n",
    "a6 = 0\n",
    "\n",
    "sa1, sa2, sa3, sa4, sa5, sa6 = symbols('sa1 sa2 sa3 sa4 sa5 sa6')\n",
    "\n",
    "alph1 = np.pi/2\n",
    "alph2 = 0\n",
    "alph3 = 0\n",
    "alph4 = np.pi/2\n",
    "alph5 = -np.pi/2\n",
    "alph6 = 0\n",
    "\n",
    "sal1, sal2, sal3, sal4, sal5, sal6 = symbols('sal1 sal2 sal3 sal4 sal5 sal6')\n",
    "sth1, sth2, sth3, sth4, sth5, sth6 = symbols('sth1 sth2 sth3 sth4 sth5 sth6')\n",
    "\n",
    "sym_dict = {sd1:d1, sd2:d2, sd3:d3, sd4:d4, sd5:d5,  sd6:d6, \n",
    "            sa1:a1, sa2:a2, sa3:a3, sa4:a4, sa5:a5,  sa6:a6, \n",
    "            sal1:alph1, sal2:alph2, sal3:alph3, sal4:alph4, sal5:alph5,  sal5:alph5}\n",
    "#theta_dict = {sth1:, }"
   ]
  },
  {
   "cell_type": "code",
   "execution_count": 4,
   "metadata": {},
   "outputs": [],
   "source": [
    "def dh(di, ai, alphi, thi):\n",
    "    \"\"\"KEITH"
   ]
  },
  {
   "cell_type": "code",
   "execution_count": 15,
   "metadata": {},
   "outputs": [
    {
     "data": {
      "text/latex": [
       "$\\displaystyle \\left[\\begin{matrix}\\left(- 6.12323399573677 \\cdot 10^{-17} \\sin{\\left(sth_{1} \\right)} \\sin{\\left(sth_{2} \\right)} + \\cos{\\left(sth_{1} \\right)} \\cos{\\left(sth_{2} \\right)}\\right) \\cos{\\left(sth_{3} \\right)} + \\left(1.0 \\sin{\\left(sth_{1} \\right)} \\sin{\\left(sth_{2} \\right)} - 6.12323399573677 \\cdot 10^{-17} \\sin{\\left(sth_{1} \\right)} \\cos{\\left(sth_{2} \\right)} - \\sin{\\left(sth_{2} \\right)} \\cos{\\left(sth_{1} \\right)}\\right) \\sin{\\left(sth_{3} \\right)} & - \\left(- 6.12323399573677 \\cdot 10^{-17} \\sin{\\left(sth_{1} \\right)} \\sin{\\left(sth_{2} \\right)} + \\cos{\\left(sth_{1} \\right)} \\cos{\\left(sth_{2} \\right)}\\right) \\sin{\\left(sth_{3} \\right)} + \\left(1.0 \\sin{\\left(sth_{1} \\right)} \\sin{\\left(sth_{2} \\right)} - 6.12323399573677 \\cdot 10^{-17} \\sin{\\left(sth_{1} \\right)} \\cos{\\left(sth_{2} \\right)} - \\sin{\\left(sth_{2} \\right)} \\cos{\\left(sth_{1} \\right)}\\right) \\cos{\\left(sth_{3} \\right)} + 1.0 \\sin{\\left(sth_{1} \\right)} \\sin{\\left(sth_{3} \\right)} & 1.0 \\sin{\\left(sth_{1} \\right)} & 150 \\left(- 6.12323399573677 \\cdot 10^{-17} \\sin{\\left(sth_{1} \\right)} \\sin{\\left(sth_{2} \\right)} + \\cos{\\left(sth_{1} \\right)} \\cos{\\left(sth_{2} \\right)}\\right) \\cos{\\left(sth_{3} \\right)} + 150 \\cdot \\left(1.0 \\sin{\\left(sth_{1} \\right)} \\sin{\\left(sth_{2} \\right)} - 6.12323399573677 \\cdot 10^{-17} \\sin{\\left(sth_{1} \\right)} \\cos{\\left(sth_{2} \\right)} - \\sin{\\left(sth_{2} \\right)} \\cos{\\left(sth_{1} \\right)}\\right) \\sin{\\left(sth_{3} \\right)} - 1.12667505521556 \\cdot 10^{-14} \\sin{\\left(sth_{1} \\right)} \\sin{\\left(sth_{2} \\right)} + 184 \\cos{\\left(sth_{1} \\right)} \\cos{\\left(sth_{2} \\right)}\\\\\\left(\\sin{\\left(sth_{1} \\right)} \\cos{\\left(sth_{2} \\right)} + 6.12323399573677 \\cdot 10^{-17} \\sin{\\left(sth_{2} \\right)} \\cos{\\left(sth_{1} \\right)}\\right) \\cos{\\left(sth_{3} \\right)} + \\left(- \\sin{\\left(sth_{1} \\right)} \\sin{\\left(sth_{2} \\right)} - 1.0 \\sin{\\left(sth_{2} \\right)} \\cos{\\left(sth_{1} \\right)} + 6.12323399573677 \\cdot 10^{-17} \\cos{\\left(sth_{1} \\right)} \\cos{\\left(sth_{2} \\right)}\\right) \\sin{\\left(sth_{3} \\right)} & - \\left(\\sin{\\left(sth_{1} \\right)} \\cos{\\left(sth_{2} \\right)} + 6.12323399573677 \\cdot 10^{-17} \\sin{\\left(sth_{2} \\right)} \\cos{\\left(sth_{1} \\right)}\\right) \\sin{\\left(sth_{3} \\right)} + \\left(- \\sin{\\left(sth_{1} \\right)} \\sin{\\left(sth_{2} \\right)} - 1.0 \\sin{\\left(sth_{2} \\right)} \\cos{\\left(sth_{1} \\right)} + 6.12323399573677 \\cdot 10^{-17} \\cos{\\left(sth_{1} \\right)} \\cos{\\left(sth_{2} \\right)}\\right) \\cos{\\left(sth_{3} \\right)} - 1.0 \\sin{\\left(sth_{3} \\right)} \\cos{\\left(sth_{1} \\right)} & - 1.0 \\cos{\\left(sth_{1} \\right)} & 150 \\left(\\sin{\\left(sth_{1} \\right)} \\cos{\\left(sth_{2} \\right)} + 6.12323399573677 \\cdot 10^{-17} \\sin{\\left(sth_{2} \\right)} \\cos{\\left(sth_{1} \\right)}\\right) \\cos{\\left(sth_{3} \\right)} + 150 \\left(- \\sin{\\left(sth_{1} \\right)} \\sin{\\left(sth_{2} \\right)} - 1.0 \\sin{\\left(sth_{2} \\right)} \\cos{\\left(sth_{1} \\right)} + 6.12323399573677 \\cdot 10^{-17} \\cos{\\left(sth_{1} \\right)} \\cos{\\left(sth_{2} \\right)}\\right) \\sin{\\left(sth_{3} \\right)} + 184 \\sin{\\left(sth_{1} \\right)} \\cos{\\left(sth_{2} \\right)} + 1.12667505521556 \\cdot 10^{-14} \\sin{\\left(sth_{2} \\right)} \\cos{\\left(sth_{1} \\right)}\\\\\\left(\\sin{\\left(sth_{1} \\right)} \\cos{\\left(sth_{2} \\right)} + 6.12323399573677 \\cdot 10^{-17} \\sin{\\left(sth_{2} \\right)}\\right) \\sin{\\left(sth_{3} \\right)} + \\sin{\\left(sth_{1} \\right)} \\sin{\\left(sth_{2} \\right)} \\cos{\\left(sth_{3} \\right)} & \\left(\\sin{\\left(sth_{1} \\right)} \\cos{\\left(sth_{2} \\right)} + 6.12323399573677 \\cdot 10^{-17} \\sin{\\left(sth_{2} \\right)}\\right) \\cos{\\left(sth_{3} \\right)} - \\sin{\\left(sth_{1} \\right)} \\sin{\\left(sth_{2} \\right)} \\sin{\\left(sth_{3} \\right)} + 6.12323399573677 \\cdot 10^{-17} \\sin{\\left(sth_{3} \\right)} & 6.12323399573677 \\cdot 10^{-17} & 150 \\left(\\sin{\\left(sth_{1} \\right)} \\cos{\\left(sth_{2} \\right)} + 6.12323399573677 \\cdot 10^{-17} \\sin{\\left(sth_{2} \\right)}\\right) \\sin{\\left(sth_{3} \\right)} + 150 \\sin{\\left(sth_{1} \\right)} \\sin{\\left(sth_{2} \\right)} \\cos{\\left(sth_{3} \\right)} + 184 \\sin{\\left(sth_{1} \\right)} \\sin{\\left(sth_{2} \\right)} + 164\\\\0 & 0 & 0 & 1\\end{matrix}\\right]$"
      ],
      "text/plain": [
       "[(-6.12323399573677e-17*sin(sth1)*sin(sth2) + cos(sth1)*cos(sth2))*cos(sth3) + (1.0*sin(sth1)*sin(sth2) - 6.12323399573677e-17*sin(sth1)*cos(sth2) - sin(sth2)*cos(sth1))*sin(sth3)  -(-6.12323399573677e-17*sin(sth1)*sin(sth2) + cos(sth1)*cos(sth2))*sin(sth3) + (1.0*sin(sth1)*sin(sth2) - 6.12323399573677e-17*sin(sth1)*cos(sth2) - sin(sth2)*cos(sth1))*cos(sth3) + 1.0*sin(sth1)*sin(sth3)     1.0*sin(sth1)      150*(-6.12323399573677e-17*sin(sth1)*sin(sth2) + cos(sth1)*cos(sth2))*cos(sth3) + 150*(1.0*sin(sth1)*sin(sth2) - 6.12323399573677e-17*sin(sth1)*cos(sth2) - sin(sth2)*cos(sth1))*sin(sth3) - 1.12667505521556e-14*sin(sth1)*sin(sth2) + 184*cos(sth1)*cos(sth2)]\n",
       "[                                                                                                                                                                                                                                                                                                                                                                                                                                                                                                                                                                                                                                                                                        ]\n",
       "[  (sin(sth1)*cos(sth2) + 6.12323399573677e-17*sin(sth2)*cos(sth1))*cos(sth3) + (-sin(sth1)*sin(sth2) - sin(sth2)*cos(sth1) + 6.12323399573677e-17*cos(sth1)*cos(sth2))*sin(sth3)        -(sin(sth1)*cos(sth2) + 6.12323399573677e-17*sin(sth2)*cos(sth1))*sin(sth3) + (-sin(sth1)*sin(sth2) - sin(sth2)*cos(sth1) + 6.12323399573677e-17*cos(sth1)*cos(sth2))*cos(sth3) - sin(sth3)*cos(sth1)         -1.0*cos(sth1)       150*(sin(sth1)*cos(sth2) + 6.12323399573677e-17*sin(sth2)*cos(sth1))*cos(sth3) + 150*(-sin(sth1)*sin(sth2) - sin(sth2)*cos(sth1) + 6.12323399573677e-17*cos(sth1)*cos(sth2))*sin(sth3) + 184*sin(sth1)*cos(sth2) + 1.12667505521556e-14*sin(sth2)*cos(sth1)  ]\n",
       "[                                                                                                                                                                                                                                                                                                                                                                                                                                                                                                                                                                                                                                                                                        ]\n",
       "[                                         (sin(sth1)*cos(sth2) + 6.12323399573677e-17*sin(sth2))*sin(sth3) + sin(sth1)*sin(sth2)*cos(sth3)                                                                                 (sin(sth1)*cos(sth2) + 6.12323399573677e-17*sin(sth2))*cos(sth3) - sin(sth1)*sin(sth2)*sin(sth3) + 6.12323399573677e-17*sin(sth3)                                        6.12323399573677e-17                                                             150*(sin(sth1)*cos(sth2) + 6.12323399573677e-17*sin(sth2))*sin(sth3) + 150*sin(sth1)*sin(sth2)*cos(sth3) + 184*sin(sth1)*sin(sth2) + 164                                                            ]\n",
       "[                                                                                                                                                                                                                                                                                                                                                                                                                                                                                                                                                                                                                                                                                        ]\n",
       "[                                                                                        0                                                                                                                                                                                                 0                                                                                                                 0                                                                                                                                           1                                                                                                                               ]"
      ]
     },
     "execution_count": 15,
     "metadata": {},
     "output_type": "execute_result"
    }
   ],
   "source": [
    "\n",
    "#Generate R01 joint rotation matrix\n",
    "\n",
    "R01 = dh(sd1, sa1, sal1, sth1)\n",
    "R12 = dh(sd2, sa2, sal2, sth2)\n",
    "R23 = dh(sd3, sa3, sal3, sth3)\n",
    "\n",
    "R03 = R01*R12*R23\n",
    "\n",
    "R03.subs(sym_dict)"
   ]
  },
  {
   "cell_type": "code",
   "execution_count": 26,
   "metadata": {},
   "outputs": [
    {
     "data": {
      "image/png": "[encoded data removed]",
      "text/latex": [
       "$\\displaystyle \\operatorname{atan}{\\left(\\frac{yg}{xg} \\right)}$"
      ],
      "text/plain": [
       "    /yg\\\n",
       "atan|--|\n",
       "    \\xg/"
      ]
     },
     "execution_count": 26,
     "metadata": {},
     "output_type": "execute_result"
    }
   ],
   "source": [
    "# IK documentation\n",
    "\n",
    "xg, yg, zg = symbols('xg yg zg')\n",
    "\n",
    "theta3 = sp.atan(yg/ xg)\n",
    "\n",
    "theta1 = sp.asin(zg/a1)\n",
    "\n",
    "# theta1\n",
    "theta3"
   ]
  }
 ],
 "metadata": {
  "kernelspec": {
   "display_name": "Python 3",
   "language": "python",
   "name": "python3"
  },
  "language_info": {
   "codemirror_mode": {
    "name": "ipython",
    "version": 3
   },
   "file_extension": ".py",
   "mimetype": "text/x-python",
   "name": "python",
   "nbconvert_exporter": "python",
   "pygments_lexer": "ipython3",
   "version": "3.10.6"
  },
  "orig_nbformat": 4
 },
 "nbformat": 4,
 "nbformat_minor": 2
}

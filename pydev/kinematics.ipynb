{
 "cells": [
  {
   "cell_type": "markdown",
   "metadata": {},
   "source": [
    "## Kinematics for KEITH\n",
    "\n",
    "#### Kinematically Erratic Idiot That's Hilarious\n"
   ]
  },
  {
   "attachments": {},
   "cell_type": "markdown",
   "metadata": {},
   "source": [
    "| i | d | a |alpha | theta       |   \n",
    "|---|---|---|------|-------------|\n",
    "|0  | - | 0 |  0   |   -         |\n",
    "|1  | d1| 0 | pi/2 |  theta_var  |  \n",
    "|2  | 0 | a2|   0  |  theta_var  |\n",
    "|3  | 0 | a3|   0  |  theta_var  |\n",
    "|4  | d4| 0 | pi/2 |  theta_var  |\n",
    "|5  | a5| 0 |-pi/2 |  theta_var  |\n",
    "|6  | a6| - |   -  |  theta_var  |\n"
   ]
  },
  {
   "cell_type": "code",
   "execution_count": 13,
   "metadata": {},
   "outputs": [],
   "source": [
    "import numpy as np\n",
    "import sympy as sp\n",
    "\n",
    "from sympy.interactive.printing import init_printing\n",
    "init_printing(use_unicoae=False, wrap_line=False)\n",
    "\n",
    "from sympy.matrices import Matrix, eye, zeros, ones, diag, GramSchmidt\n",
    "from sympy import symbols"
   ]
  },
  {
   "cell_type": "code",
   "execution_count": 23,
   "metadata": {},
   "outputs": [],
   "source": [
    "# Measurements are in mm or rad, as appropriate\n",
    "d1 = 164\n",
    "d2 = 0\n",
    "d3 = 0\n",
    "d4 = 0\n",
    "d5 = 0\n",
    "d6 = 0\n",
    "\n",
    "sd1, sd2, sd3, sd4, sd5, sd6 = symbols('sd1 sd2 sd3 sd4 sd5 sd6')\n",
    "\n",
    "a1 = 0\n",
    "a2 = 184\n",
    "a3 = 150\n",
    "a4 = 0\n",
    "a5 = 0\n",
    "a6 = 0\n",
    "\n",
    "sa1, sa2, sa3, sa4, sa5, sa6 = symbols('sa1 sa2 sa3 sa4 sa5 sa6')\n",
    "\n",
    "alph1 = np.pi/2\n",
    "alph2 = 0\n",
    "alph3 = 0\n",
    "alph4 = np.pi/2\n",
    "alph5 = -np.pi/2\n",
    "alph6 = 0\n",
    "\n",
    "sal1, sal2, sal3, sal4, sal5, sal6 = symbols('sal1 sal2 sal3 sal4 sal5 sal6')\n",
    "sth1, sth2, sth3, sth4, sth5, sth6 = symbols('sth1 sth2 sth3 sth4 sth5 sth6')\n",
    "\n",
    "sym_dict = {sd1:d1, sd2:d2, sd3:d3, sd4:d4, sd5:d5,  sd6:d6, \n",
    "            sa1:a1, sa2:a2, sa3:a3, sa4:a4, sa5:a5,  sa6:a6, \n",
    "            sal1:alph1, sal2:alph2, sal3:alph3, sal4:alph4, sal5:alph5,  sal5:alph5}\n",
    "#theta_dict = {sth1:, }"
   ]
  },
  {
   "cell_type": "code",
   "execution_count": 24,
   "metadata": {},
   "outputs": [],
   "source": [
    "def dh(di, ai, alphi, thi):\n",
    "    \"\"\"\n",
    "    Generate Denavit Hartenburg Matrix for a given frame\n",
    "    \"\"\"\n",
    "    Rm = Matrix([[sp.cos(thi), -sp.sin(thi)*sp.cos(alphi), sp.sin(thi)*sp.sin(alphi), ai*sp.cos(thi)], [sp.sin(thi), sp.cos(thi)*sp.cos(alphi), -sp.cos(thi)*sp.sin(alphi), ai*sp.sin(thi)], [0, sp.sin(thi), sp.cos(alphi), di], [0, 0, 0, 1]])\n",
    "\n",
    "    return Rm"
   ]
  },
  {
   "cell_type": "code",
   "execution_count": 26,
   "metadata": {},
   "outputs": [
    {
     "name": "stdout",
     "output_type": "stream",
     "text": [
      "Matrix([[(-6.12323399573677e-17*sin(sth1)*sin(sth2) + cos(sth1)*cos(sth2))*cos(sth3) + (1.0*sin(sth1)*sin(sth2) - 6.12323399573677e-17*sin(sth1)*cos(sth2) - sin(sth2)*cos(sth1))*sin(sth3), -(-6.12323399573677e-17*sin(sth1)*sin(sth2) + cos(sth1)*cos(sth2))*sin(sth3) + (1.0*sin(sth1)*sin(sth2) - 6.12323399573677e-17*sin(sth1)*cos(sth2) - sin(sth2)*cos(sth1))*cos(sth3) + 1.0*sin(sth1)*sin(sth3), 1.0*sin(sth1), 150*(-6.12323399573677e-17*sin(sth1)*sin(sth2) + cos(sth1)*cos(sth2))*cos(sth3) + 150*(1.0*sin(sth1)*sin(sth2) - 6.12323399573677e-17*sin(sth1)*cos(sth2) - sin(sth2)*cos(sth1))*sin(sth3) - 1.12667505521556e-14*sin(sth1)*sin(sth2) + 184*cos(sth1)*cos(sth2)], [(sin(sth1)*cos(sth2) + 6.12323399573677e-17*sin(sth2)*cos(sth1))*cos(sth3) + (-sin(sth1)*sin(sth2) - 1.0*sin(sth2)*cos(sth1) + 6.12323399573677e-17*cos(sth1)*cos(sth2))*sin(sth3), -(sin(sth1)*cos(sth2) + 6.12323399573677e-17*sin(sth2)*cos(sth1))*sin(sth3) + (-sin(sth1)*sin(sth2) - 1.0*sin(sth2)*cos(sth1) + 6.12323399573677e-17*cos(sth1)*cos(sth2))*cos(sth3) - 1.0*sin(sth3)*cos(sth1), -1.0*cos(sth1), 150*(sin(sth1)*cos(sth2) + 6.12323399573677e-17*sin(sth2)*cos(sth1))*cos(sth3) + 150*(-sin(sth1)*sin(sth2) - 1.0*sin(sth2)*cos(sth1) + 6.12323399573677e-17*cos(sth1)*cos(sth2))*sin(sth3) + 184*sin(sth1)*cos(sth2) + 1.12667505521556e-14*sin(sth2)*cos(sth1)], [(sin(sth1)*cos(sth2) + 6.12323399573677e-17*sin(sth2))*sin(sth3) + sin(sth1)*sin(sth2)*cos(sth3), (sin(sth1)*cos(sth2) + 6.12323399573677e-17*sin(sth2))*cos(sth3) - sin(sth1)*sin(sth2)*sin(sth3) + 6.12323399573677e-17*sin(sth3), 6.12323399573677e-17, 150*(sin(sth1)*cos(sth2) + 6.12323399573677e-17*sin(sth2))*sin(sth3) + 150*sin(sth1)*sin(sth2)*cos(sth3) + 184*sin(sth1)*sin(sth2) + 164], [0, 0, 0, 1]])\n"
     ]
    }
   ],
   "source": [
    "\n",
    "#Generate R01 joint rotation matrix\n",
    "\n",
    "R01 = dh(sd1, sa1, sal1, sth1)\n",
    "R12 = dh(sd2, sa2, sal2, sth2)\n",
    "R23 = dh(sd3, sa3, sal3, sth3)\n",
    "\n",
    "R03 = R01*R12*R23\n",
    "\n",
    "print(R03.subs(sym_dict))"
   ]
  }
 ],
 "metadata": {
  "kernelspec": {
   "display_name": "Python 3",
   "language": "python",
   "name": "python3"
  },
  "language_info": {
   "codemirror_mode": {
    "name": "ipython",
    "version": 3
   },
   "file_extension": ".py",
   "mimetype": "text/x-python",
   "name": "python",
   "nbconvert_exporter": "python",
   "pygments_lexer": "ipython3",
   "version": "3.10.6"
  },
  "orig_nbformat": 4
 },
 "nbformat": 4,
 "nbformat_minor": 2
}
